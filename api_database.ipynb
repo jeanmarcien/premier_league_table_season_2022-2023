{
 "cells": [
  {
   "cell_type": "markdown",
   "id": "98e3923c",
   "metadata": {},
   "source": [
    "# Premier League Standings Data Retrieval and Database Integration"
   ]
  },
  {
   "cell_type": "markdown",
   "id": "2f11df90",
   "metadata": {},
   "source": [
    "This code fetches Premier League standings data from the API, creates an SQLite database, and inserts the retrieved data into the \"teams\" and \"stats\" tables."
   ]
  },
  {
   "cell_type": "markdown",
   "id": "0ad07119",
   "metadata": {},
   "source": [
    "Importing necessary modules:"
   ]
  },
  {
   "cell_type": "code",
   "execution_count": 2,
   "id": "5f3007fc",
   "metadata": {},
   "outputs": [],
   "source": [
    "import requests\n",
    "import sqlite3"
   ]
  },
  {
   "cell_type": "markdown",
   "id": "3c86f38d",
   "metadata": {},
   "source": [
    "Setting up the API URL and headers:"
   ]
  },
  {
   "cell_type": "code",
   "execution_count": 3,
   "id": "881f0b82",
   "metadata": {},
   "outputs": [],
   "source": [
    "url = \"https://premier-league-standings1.p.rapidapi.com/\"\n",
    "\n",
    "headers = {\n",
    "    \"X-RapidAPI-Key\": \"d5c307c9d2msh171b0eb139794dcp123df6jsnb413743e6dfe\",\n",
    "    \"X-RapidAPI-Host\": \"premier-league-standings1.p.rapidapi.com\"\n",
    "}"
   ]
  },
  {
   "cell_type": "markdown",
   "id": "66964ec8",
   "metadata": {},
   "source": [
    "Making a GET request to the API:"
   ]
  },
  {
   "cell_type": "code",
   "execution_count": 4,
   "id": "5a1b8c6c",
   "metadata": {},
   "outputs": [
    {
     "name": "stdout",
     "output_type": "stream",
     "text": [
      "[{'team': {'name': 'Manchester City', 'logo': 'https://a.espncdn.com/i/teamlogos/soccer/500/382.png', 'abbreviation': 'MNC'}, 'stats': {'wins': 28, 'losses': 5, 'ties': 5, 'gamesPlayed': 38, 'goalsFor': 94, 'goalsAgainst': 33, 'points': 89, 'rank': 1, 'goalDifference': 61}}, {'team': {'name': 'Arsenal', 'logo': 'https://a.espncdn.com/i/teamlogos/soccer/500/359.png', 'abbreviation': 'ARS'}, 'stats': {'wins': 26, 'losses': 6, 'ties': 6, 'gamesPlayed': 38, 'goalsFor': 88, 'goalsAgainst': 43, 'points': 84, 'rank': 2, 'goalDifference': 45}}, {'team': {'name': 'Manchester United', 'logo': 'https://a.espncdn.com/i/teamlogos/soccer/500/360.png', 'abbreviation': 'MAN'}, 'stats': {'wins': 23, 'losses': 9, 'ties': 6, 'gamesPlayed': 38, 'goalsFor': 58, 'goalsAgainst': 43, 'points': 75, 'rank': 3, 'goalDifference': 15}}, {'team': {'name': 'Newcastle United', 'logo': 'https://a.espncdn.com/i/teamlogos/soccer/500/361.png', 'abbreviation': 'NEW'}, 'stats': {'wins': 19, 'losses': 5, 'ties': 14, 'gamesPlayed': 38, 'goalsFor': 68, 'goalsAgainst': 33, 'points': 71, 'rank': 4, 'goalDifference': 35}}, {'team': {'name': 'Liverpool', 'logo': 'https://a.espncdn.com/i/teamlogos/soccer/500/364.png', 'abbreviation': 'LIV'}, 'stats': {'wins': 19, 'losses': 9, 'ties': 10, 'gamesPlayed': 38, 'goalsFor': 75, 'goalsAgainst': 47, 'points': 67, 'rank': 5, 'goalDifference': 28}}, {'team': {'name': 'Brighton & Hove Albion', 'logo': 'https://a.espncdn.com/i/teamlogos/soccer/500/331.png', 'abbreviation': 'BHA'}, 'stats': {'wins': 18, 'losses': 12, 'ties': 8, 'gamesPlayed': 38, 'goalsFor': 72, 'goalsAgainst': 53, 'points': 62, 'rank': 6, 'goalDifference': 19}}, {'team': {'name': 'Aston Villa', 'logo': 'https://a.espncdn.com/i/teamlogos/soccer/500/362.png', 'abbreviation': 'AVL'}, 'stats': {'wins': 18, 'losses': 13, 'ties': 7, 'gamesPlayed': 38, 'goalsFor': 51, 'goalsAgainst': 46, 'points': 61, 'rank': 7, 'goalDifference': 5}}, {'team': {'name': 'Tottenham Hotspur', 'logo': 'https://a.espncdn.com/i/teamlogos/soccer/500/367.png', 'abbreviation': 'TOT'}, 'stats': {'wins': 18, 'losses': 14, 'ties': 6, 'gamesPlayed': 38, 'goalsFor': 70, 'goalsAgainst': 63, 'points': 60, 'rank': 8, 'goalDifference': 7}}, {'team': {'name': 'Brentford', 'logo': 'https://a.espncdn.com/i/teamlogos/soccer/500/337.png', 'abbreviation': 'BRE'}, 'stats': {'wins': 15, 'losses': 9, 'ties': 14, 'gamesPlayed': 38, 'goalsFor': 58, 'goalsAgainst': 46, 'points': 59, 'rank': 9, 'goalDifference': 12}}, {'team': {'name': 'Fulham', 'logo': 'https://a.espncdn.com/i/teamlogos/soccer/500/370.png', 'abbreviation': 'FUL'}, 'stats': {'wins': 15, 'losses': 16, 'ties': 7, 'gamesPlayed': 38, 'goalsFor': 55, 'goalsAgainst': 53, 'points': 52, 'rank': 10, 'goalDifference': 2}}, {'team': {'name': 'Crystal Palace', 'logo': 'https://a.espncdn.com/i/teamlogos/soccer/500/384.png', 'abbreviation': 'CRY'}, 'stats': {'wins': 11, 'losses': 15, 'ties': 12, 'gamesPlayed': 38, 'goalsFor': 40, 'goalsAgainst': 49, 'points': 45, 'rank': 11, 'goalDifference': -9}}, {'team': {'name': 'Chelsea', 'logo': 'https://a.espncdn.com/i/teamlogos/soccer/500/363.png', 'abbreviation': 'CHE'}, 'stats': {'wins': 11, 'losses': 16, 'ties': 11, 'gamesPlayed': 38, 'goalsFor': 38, 'goalsAgainst': 47, 'points': 44, 'rank': 12, 'goalDifference': -9}}, {'team': {'name': 'Wolverhampton Wanderers', 'logo': 'https://a.espncdn.com/i/teamlogos/soccer/500/380.png', 'abbreviation': 'WOL'}, 'stats': {'wins': 11, 'losses': 19, 'ties': 8, 'gamesPlayed': 38, 'goalsFor': 31, 'goalsAgainst': 58, 'points': 41, 'rank': 13, 'goalDifference': -27}}, {'team': {'name': 'West Ham United', 'logo': 'https://a.espncdn.com/i/teamlogos/soccer/500/371.png', 'abbreviation': 'WHU'}, 'stats': {'wins': 11, 'losses': 20, 'ties': 7, 'gamesPlayed': 38, 'goalsFor': 42, 'goalsAgainst': 55, 'points': 40, 'rank': 14, 'goalDifference': -13}}, {'team': {'name': 'AFC Bournemouth', 'logo': 'https://a.espncdn.com/i/teamlogos/soccer/500/349.png', 'abbreviation': 'BOU'}, 'stats': {'wins': 11, 'losses': 21, 'ties': 6, 'gamesPlayed': 38, 'goalsFor': 37, 'goalsAgainst': 71, 'points': 39, 'rank': 15, 'goalDifference': -34}}, {'team': {'name': 'Nottingham Forest', 'logo': 'https://a.espncdn.com/i/teamlogos/soccer/500/393.png', 'abbreviation': 'NFO'}, 'stats': {'wins': 9, 'losses': 18, 'ties': 11, 'gamesPlayed': 38, 'goalsFor': 38, 'goalsAgainst': 68, 'points': 38, 'rank': 16, 'goalDifference': -30}}, {'team': {'name': 'Everton', 'logo': 'https://a.espncdn.com/i/teamlogos/soccer/500/368.png', 'abbreviation': 'EVE'}, 'stats': {'wins': 8, 'losses': 18, 'ties': 12, 'gamesPlayed': 38, 'goalsFor': 34, 'goalsAgainst': 57, 'points': 36, 'rank': 17, 'goalDifference': -23}}, {'team': {'name': 'Leicester City', 'logo': 'https://a.espncdn.com/i/teamlogos/soccer/500/375.png', 'abbreviation': 'LEI'}, 'stats': {'wins': 9, 'losses': 22, 'ties': 7, 'gamesPlayed': 38, 'goalsFor': 51, 'goalsAgainst': 68, 'points': 34, 'rank': 18, 'goalDifference': -17}}, {'team': {'name': 'Leeds United', 'logo': 'https://a.espncdn.com/i/teamlogos/soccer/500/357.png', 'abbreviation': 'LEE'}, 'stats': {'wins': 7, 'losses': 21, 'ties': 10, 'gamesPlayed': 38, 'goalsFor': 48, 'goalsAgainst': 78, 'points': 31, 'rank': 19, 'goalDifference': -30}}, {'team': {'name': 'Southampton', 'logo': 'https://a.espncdn.com/i/teamlogos/soccer/500/376.png', 'abbreviation': 'SOU'}, 'stats': {'wins': 6, 'losses': 25, 'ties': 7, 'gamesPlayed': 38, 'goalsFor': 36, 'goalsAgainst': 73, 'points': 25, 'rank': 20, 'goalDifference': -37}}]\n"
     ]
    }
   ],
   "source": [
    "response = requests.get(url, headers=headers)\n",
    "print(response.json())"
   ]
  },
  {
   "cell_type": "markdown",
   "id": "7d20de5c",
   "metadata": {},
   "source": [
    "Checking if the response was successful (status code 200):"
   ]
  },
  {
   "cell_type": "code",
   "execution_count": 5,
   "id": "91c34f0e",
   "metadata": {},
   "outputs": [],
   "source": [
    "if response.status_code == 200:\n",
    "    premier_league_data = response.json()\n",
    "else:\n",
    "    print('Error retrieving fixture data. Status code:', response.status_code)"
   ]
  },
  {
   "cell_type": "markdown",
   "id": "a4a6d91d",
   "metadata": {},
   "source": [
    "Creating a connection to the SQLite database:"
   ]
  },
  {
   "cell_type": "code",
   "execution_count": 6,
   "id": "b12ed604",
   "metadata": {},
   "outputs": [],
   "source": [
    "conn = sqlite3.connect('results.db')\n",
    "cursor = conn.cursor()"
   ]
  },
  {
   "cell_type": "markdown",
   "id": "5ba5fd42",
   "metadata": {},
   "source": [
    "Dropping existing \"teams\" and \"stats\" tables (if they exist):"
   ]
  },
  {
   "cell_type": "code",
   "execution_count": 7,
   "id": "9927e0d5",
   "metadata": {},
   "outputs": [
    {
     "data": {
      "text/plain": [
       "<sqlite3.Cursor at 0x7f6a25101ab0>"
      ]
     },
     "execution_count": 7,
     "metadata": {},
     "output_type": "execute_result"
    }
   ],
   "source": [
    "cursor.execute(\"DROP TABLE IF EXISTS teams\")\n",
    "cursor.execute(\"DROP TABLE IF EXISTS stats\")"
   ]
  },
  {
   "cell_type": "markdown",
   "id": "90dd2dab",
   "metadata": {},
   "source": [
    "Creating the \"teams\" table if it doesn't exist:"
   ]
  },
  {
   "cell_type": "code",
   "execution_count": 8,
   "id": "ca2e8297",
   "metadata": {},
   "outputs": [
    {
     "data": {
      "text/plain": [
       "<sqlite3.Cursor at 0x7f6a25101ab0>"
      ]
     },
     "execution_count": 8,
     "metadata": {},
     "output_type": "execute_result"
    }
   ],
   "source": [
    "cursor.execute('''\n",
    "    CREATE TABLE IF NOT EXISTS teams (\n",
    "        id INTEGER PRIMARY KEY AUTOINCREMENT,\n",
    "        name TEXT NOT NULL,\n",
    "        logo TEXT NOT NULL,\n",
    "        abbreviation TEXT NOT NULL\n",
    "    )\n",
    "''')"
   ]
  },
  {
   "cell_type": "markdown",
   "id": "87cd4e7b",
   "metadata": {},
   "source": [
    "Extracting team data from the API response and inserting it into the \"teams\" table:"
   ]
  },
  {
   "cell_type": "code",
   "execution_count": 9,
   "id": "a4a7a65b",
   "metadata": {},
   "outputs": [
    {
     "data": {
      "text/plain": [
       "<sqlite3.Cursor at 0x7f6a25101ab0>"
      ]
     },
     "execution_count": 9,
     "metadata": {},
     "output_type": "execute_result"
    }
   ],
   "source": [
    "team_data = []\n",
    "for item in premier_league_data:\n",
    "    team = item['team']\n",
    "    name = team['name']\n",
    "    logo = team['logo']\n",
    "    abbreviation = team['abbreviation']\n",
    "    team_data.append((name, logo, abbreviation))\n",
    "\n",
    "cursor.executemany('INSERT INTO teams (name, logo, abbreviation) VALUES (?, ?, ?)', team_data)"
   ]
  },
  {
   "cell_type": "markdown",
   "id": "14377784",
   "metadata": {},
   "source": [
    "Creating the \"stats\" table if it doesn't exist:"
   ]
  },
  {
   "cell_type": "code",
   "execution_count": 10,
   "id": "cc6d2e07",
   "metadata": {},
   "outputs": [
    {
     "data": {
      "text/plain": [
       "<sqlite3.Cursor at 0x7f6a25101ab0>"
      ]
     },
     "execution_count": 10,
     "metadata": {},
     "output_type": "execute_result"
    }
   ],
   "source": [
    "cursor.execute('''\n",
    "    CREATE TABLE IF NOT EXISTS stats (\n",
    "        id INTEGER PRIMARY KEY AUTOINCREMENT,\n",
    "        wins INTEGER NOT NULL,\n",
    "        losses INTEGER NOT NULL,\n",
    "        ties INTEGER NOT NULL,\n",
    "        gamesPlayed INTEGER NOT NULL,\n",
    "        goalsFor INTEGER NOT NULL,\n",
    "        goalsAgainst INTEGER NOT NULL,\n",
    "        points INTEGER NOT NULL,\n",
    "        rank INTEGER NOT NULL,\n",
    "        goalDifference INTEGER NOT NULL\n",
    "    )\n",
    "''')"
   ]
  },
  {
   "cell_type": "markdown",
   "id": "0f6c2e65",
   "metadata": {},
   "source": [
    "Extracting team statistics from the API response and inserting them into the \"stats\" table:"
   ]
  },
  {
   "cell_type": "code",
   "execution_count": 11,
   "id": "7e389612",
   "metadata": {},
   "outputs": [
    {
     "data": {
      "text/plain": [
       "<sqlite3.Cursor at 0x7f6a25101ab0>"
      ]
     },
     "execution_count": 11,
     "metadata": {},
     "output_type": "execute_result"
    }
   ],
   "source": [
    "team_stats = []\n",
    "for item in premier_league_data:\n",
    "    stats = item['stats']\n",
    "    wins = stats['wins']\n",
    "    losses = stats['losses']\n",
    "    ties = stats['ties']\n",
    "    gamesPlayed = stats['gamesPlayed']\n",
    "    goalsFor = stats['goalsFor']\n",
    "    goalsAgainst = stats['goalsAgainst']\n",
    "    points = stats['points']\n",
    "    rank = stats['rank']\n",
    "    goalDifference = stats['goalDifference']\n",
    "    team_stats.append((wins, losses, ties, gamesPlayed, goalsFor, goalsAgainst, points, rank, goalDifference))\n",
    "\n",
    "cursor.executemany('INSERT INTO stats (wins, losses, ties, gamesPlayed, goalsFor, goalsAgainst, points, rank, '\n",
    "                   'goalDifference) VALUES (?, ?, ?, ?, ?, ?, ?, ?, ?)', team_stats)\n"
   ]
  },
  {
   "cell_type": "markdown",
   "id": "9b0f8291",
   "metadata": {},
   "source": [
    "Committing the changes to the database and closing the connection:"
   ]
  },
  {
   "cell_type": "code",
   "execution_count": 12,
   "id": "78ed10b4",
   "metadata": {},
   "outputs": [],
   "source": [
    "conn.commit()\n",
    "conn.close()"
   ]
  }
 ],
 "metadata": {
  "kernelspec": {
   "display_name": "Python 3 (ipykernel)",
   "language": "python",
   "name": "python3"
  },
  "language_info": {
   "codemirror_mode": {
    "name": "ipython",
    "version": 3
   },
   "file_extension": ".py",
   "mimetype": "text/x-python",
   "name": "python",
   "nbconvert_exporter": "python",
   "pygments_lexer": "ipython3",
   "version": "3.8.10"
  }
 },
 "nbformat": 4,
 "nbformat_minor": 5
}
